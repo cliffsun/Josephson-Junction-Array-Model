{
 "cells": [
  {
   "cell_type": "code",
   "execution_count": 6,
   "metadata": {},
   "outputs": [],
   "source": [
    "import numpy as np\n",
    "import pandas as pd\n",
    "import matplotlib.pyplot as plt"
   ]
  },
  {
   "cell_type": "code",
   "execution_count": 7,
   "metadata": {},
   "outputs": [],
   "source": [
    "predictions_csv_path = r\"training data\\predictions.csv\"\n",
    "\n",
    "predictions_array_df = pd.read_csv(predictions_csv_path)"
   ]
  },
  {
   "cell_type": "code",
   "execution_count": 8,
   "metadata": {},
   "outputs": [],
   "source": [
    "def current(B, arrJ, arrC, y):\n",
    "    curr = 0\n",
    "    limit = int(len(arrJ) / 2)\n",
    "    for n in range(limit):\n",
    "        numOfSegments = 5 if (arrJ[2 * n + 1] - arrJ[2 * n]) < 0.05 else int(100 * (arrJ[2 * n + 1] - arrJ[2 * n]))\n",
    "        sizeOfSegment = float((arrJ[2 * n + 1] - arrJ[2 * n]) / numOfSegments)\n",
    "        for i in range(numOfSegments):\n",
    "            curr += arrC[n] * np.sin(y + (2 * np.pi * B) * (arrJ[2 * n] + i * sizeOfSegment)) * (1/numOfSegments)\n",
    "    return curr\n",
    "\n",
    "def criticalCurrent(density, arrJ):\n",
    "    criticalCurrents = []\n",
    "    junctionWidths = []\n",
    "    for i in range(len(arrJ)//2):\n",
    "        junctionWidths.append(arrJ[2*i+1] - arrJ[2*i])\n",
    "    for i in range (len(junctionWidths)):\n",
    "        criticalCurrents.append(junctionWidths[i] * density[i])\n",
    "    return criticalCurrents\n",
    "\n",
    "def maxCurrent(B, arrayJ, arrayC):\n",
    "    Y=np.linspace(0, 2*np.pi, 150)\n",
    "    dummyArray=[]\n",
    "    for gamma in Y:\n",
    "        dummyArray.append(current(B, arrayJ, arrayC, gamma))\n",
    "    return max(dummyArray)\n",
    "\n",
    "def IMaxPoint(arrayOfJunctions):\n",
    "    I_c = []\n",
    "    criticalCurrents = criticalCurrent(np.ones(len(arrayOfJunctions)//2), arrayOfJunctions)\n",
    "    exp_csv_path = r\"experimental data\\experimental csvs\\5.0uV_normalized.csv\"\n",
    "    exp_arr = pd.read_csv(exp_csv_path).values\n",
    "    FluxField = [pair[0] for pair in exp_arr]\n",
    "    for f in FluxField:\n",
    "        I_c.append(maxCurrent(B=f, arrayJ=arrayOfJunctions, arrayC=criticalCurrents) / np.sum(criticalCurrents))\n",
    "    return I_c\n",
    "\n",
    "def cost_function(basis_data, generated_data):\n",
    "    diff = basis_data - generated_data\n",
    "    for i in range(len(diff)):\n",
    "        diff[i] = diff[i]**2\n",
    "    return np.sum(diff)\n",
    "\n",
    "def process_dataframe(df):\n",
    "    # Sort each row\n",
    "    df = df.apply(sorted, axis=1, result_type='expand')\n",
    "    \n",
    "    # Subtract the smallest value in each row\n",
    "    df = df.subtract(df.min(axis=1), axis=0)\n",
    "    \n",
    "    # Normalize by the greatest value in each row\n",
    "    df = df.divide(df.max(axis=1), axis=0)\n",
    "    \n",
    "    return df"
   ]
  },
  {
   "cell_type": "code",
   "execution_count": 9,
   "metadata": {},
   "outputs": [
    {
     "data": {
      "text/plain": [
       "array([[0.10234627],\n",
       "       [0.10430817],\n",
       "       [0.10673394],\n",
       "       ...,\n",
       "       [0.08508925],\n",
       "       [0.08070811],\n",
       "       [0.07953125]])"
      ]
     },
     "execution_count": 9,
     "metadata": {},
     "output_type": "execute_result"
    }
   ],
   "source": [
    "I_c = []\n",
    "\n",
    "exp_data = pd.read_csv(r\"experimental data\\experimental csvs\\5.0uV_normalized.csv\")\n",
    "\n",
    "exp_data = exp_data.drop(exp_data.columns[0], axis=1)\n",
    "\n",
    "exp_data = exp_data.values\n",
    "\n",
    "predictions_array_df = process_dataframe(predictions_array_df)\n",
    "\n",
    "predictions = predictions_array_df.values\n",
    "\n",
    "array_of_costs = []\n",
    "\n",
    "exp_data\n",
    "\n",
    "# predictions"
   ]
  },
  {
   "cell_type": "code",
   "execution_count": null,
   "metadata": {},
   "outputs": [],
   "source": [
    "for i in range(len(predictions)//10):\n",
    "    I_c = IMaxPoint(arrayOfJunctions=predictions[10 * i])\n",
    "    array_of_costs.append(cost_function(I_c, exp_data))"
   ]
  },
  {
   "cell_type": "code",
   "execution_count": null,
   "metadata": {},
   "outputs": [],
   "source": [
    "plt.plot(np.linspace(0, len(array_of_costs), array_of_costs), array_of_costs)\n",
    "plt.grid()\n",
    "plt.show() "
   ]
  }
 ],
 "metadata": {
  "kernelspec": {
   "display_name": "Python 3",
   "language": "python",
   "name": "python3"
  },
  "language_info": {
   "codemirror_mode": {
    "name": "ipython",
    "version": 3
   },
   "file_extension": ".py",
   "mimetype": "text/x-python",
   "name": "python",
   "nbconvert_exporter": "python",
   "pygments_lexer": "ipython3",
   "version": "3.11.9"
  }
 },
 "nbformat": 4,
 "nbformat_minor": 2
}
