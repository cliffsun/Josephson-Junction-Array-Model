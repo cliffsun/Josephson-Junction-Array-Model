{
 "cells": [
  {
   "cell_type": "code",
   "execution_count": 195,
   "metadata": {},
   "outputs": [],
   "source": [
    "import torch\n",
    "import torch.nn as nn\n",
    "import torch.optim as optim\n",
    "import numpy as np\n",
    "import pandas as pd"
   ]
  },
  {
   "cell_type": "code",
   "execution_count": 196,
   "metadata": {},
   "outputs": [],
   "source": [
    "def current(B, arrJ, arrC, y): # y is initial phase difference of the whole circuit, B is the magnetic field, arrJ is the location of junctions, arrC is critical current associated with each junction\n",
    "    curr = 0 # summation of all currents in the entire junction\n",
    "    limit = int(len(arrJ) / 2) # number of junctions in the SQUID\n",
    "    numOfSegments = 0\n",
    "    for n in range(limit):\n",
    "        if arrJ[2 * n + 1] - arrJ[2 * n] < 0.05:\n",
    "            numOfSegments = 5\n",
    "        else:\n",
    "            numOfSegments = int(100 * (arrJ[2 * n + 1] - arrJ[2 * n]).item())\n",
    "        sizeOfSegment = float((arrJ[2 * n + 1] - arrJ[2 * n]).item() / numOfSegments)\n",
    "        for i in range(numOfSegments):\n",
    "            curr += arrC[n] * np.sin(y + (2 * np.pi * B) * (arrJ[2 * n].item() + i * sizeOfSegment)) * (1 / numOfSegments)\n",
    "\n",
    "    return curr"
   ]
  },
  {
   "cell_type": "code",
   "execution_count": 197,
   "metadata": {},
   "outputs": [],
   "source": [
    "def maxCurrent(B, arrayJ, arrayC): # Spits out the maximum current by varying the gauge invariant phase of the left end (free parameter) gamma\n",
    "    Y=np.linspace(0, 2*np.pi, 150)\n",
    "    dummyArray=[]\n",
    "    for gamma in Y:\n",
    "        dummyArray.append(current(B, arrayJ, arrayC, gamma))\n",
    "    return max(dummyArray)\n",
    "\n",
    "def criticalCurrent(density, arrJ):\n",
    "    criticalCurrents = []\n",
    "    junctionWidths = []\n",
    "    for i in range(len(arrJ)//2):\n",
    "        junctionWidths.append(arrJ[2*i+1] - arrJ[2*i])\n",
    "    for i in range (len(junctionWidths)):\n",
    "        criticalCurrents.append(junctionWidths[i] * density[i])\n",
    "    return criticalCurrents, junctionWidths"
   ]
  },
  {
   "cell_type": "code",
   "execution_count": 198,
   "metadata": {},
   "outputs": [],
   "source": [
    "def enforce_constraints(array):\n",
    "    array = torch.clamp(array, 0, 1)  # Clamp values between 0 and 1\n",
    "    array[0] = 0  # Ensure first value is 0\n",
    "    array[-1] = 1  # Ensure last value is 1\n",
    "    array, _ = torch.sort(array)  # Sort the array\n",
    "    return array"
   ]
  },
  {
   "cell_type": "code",
   "execution_count": 199,
   "metadata": {},
   "outputs": [],
   "source": [
    "class Generator(nn.Module):\n",
    "    def __init__(self, input_size, hidden_size, output_size):\n",
    "        super(Generator, self).__init__()\n",
    "        self.fc1 = nn.Linear(input_size, hidden_size)\n",
    "        self.fc2 = nn.Linear(hidden_size, output_size)\n",
    "        self.relu = nn.ReLU()\n",
    "    \n",
    "    def forward(self, x):\n",
    "        x = self.relu(self.fc1(x))\n",
    "        x = self.fc2(x)\n",
    "        return x"
   ]
  },
  {
   "cell_type": "code",
   "execution_count": 206,
   "metadata": {},
   "outputs": [],
   "source": [
    "def cost_function(gen_data_tensor, model_data_tensor):\n",
    "    diff = gen_data_tensor - model_data_tensor\n",
    "    squared_diff = torch.pow(diff, 2)  # Squaring the differences\n",
    "    sum_squared_diff = torch.sum(squared_diff)  # Summing the squared differences\n",
    "    return sum_squared_diff\n",
    "\n",
    "def calculate_critical_current(arrJ):\n",
    "    criticalCurrents, junctionWidths = criticalCurrent(np.ones(len(arrJ)//2), arrJ)\n",
    "    MagField = np.linspace(-10, 10, 10000)\n",
    "    IMaxPoint = []\n",
    "    for B in MagField:\n",
    "        IMaxPoint.append(maxCurrent(B, arrJ, criticalCurrents) / np.sum(criticalCurrents))\n",
    "    return IMaxPoint"
   ]
  },
  {
   "cell_type": "code",
   "execution_count": 201,
   "metadata": {},
   "outputs": [],
   "source": [
    "experimental_model = pd.read_csv(r\"experimental data\\artifical data\\remodified 5.0uV.csv\")\n",
    "experimental_data = np.array(experimental_model['I_c'])\n",
    "input_size = 200\n",
    "hidden_size = 200\n",
    "output_size = 200 \n",
    "generator = Generator(input_size, hidden_size, output_size)"
   ]
  },
  {
   "cell_type": "code",
   "execution_count": 202,
   "metadata": {},
   "outputs": [],
   "source": [
    "optimizer = optim.Adam(generator.parameters(), lr=0.001)"
   ]
  },
  {
   "cell_type": "code",
   "execution_count": null,
   "metadata": {},
   "outputs": [],
   "source": [
    "num_epochs = 1000\n",
    "\n",
    "for epoch in range(num_epochs):\n",
    "    input_data = torch.randn(1, input_size)\n",
    "    \n",
    "    generated_array = torch.randn(1, input_size)[0]\n",
    "\n",
    "    generated_array_1d = generated_array.flatten()\n",
    "    \n",
    "    generated_array_numpy = enforce_constraints(generated_array_1d).detach().numpy()\n",
    "    print(generated_array_numpy)\n",
    "    \n",
    "    predicted_graph = calculate_critical_current(generated_array_numpy)  # Calculate graph from generated array\n",
    "    experimental_data_tensor = torch.tensor(experimental_data, dtype=torch.float32)\n",
    "    predicted_graph_tensor = torch.tensor(predicted_graph, dtype=torch.float32)\n",
    "    experimental_data_tensor.requires_grad = True\n",
    "    predicted_graph_tensor.requires_grad = True\n",
    "\n",
    "    optimizer.zero_grad()\n",
    "\n",
    "    loss = cost_function(gen_data_tensor=experimental_data_tensor, model_data_tensor=predicted_graph_tensor)\n",
    "\n",
    "    loss.backward()\n",
    "    optimizer.step()\n",
    "\n",
    "    if epoch % 100 == 0:\n",
    "        print(f\"Epoch [{epoch+1}/{num_epochs}], Loss: {loss.item():.4f}\")"
   ]
  }
 ],
 "metadata": {
  "kernelspec": {
   "display_name": "Python 3",
   "language": "python",
   "name": "python3"
  },
  "language_info": {
   "codemirror_mode": {
    "name": "ipython",
    "version": 3
   },
   "file_extension": ".py",
   "mimetype": "text/x-python",
   "name": "python",
   "nbconvert_exporter": "python",
   "pygments_lexer": "ipython3",
   "version": "3.12.2"
  }
 },
 "nbformat": 4,
 "nbformat_minor": 2
}
