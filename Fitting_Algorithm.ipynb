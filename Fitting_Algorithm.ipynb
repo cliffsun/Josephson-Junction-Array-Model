{
 "cells": [
  {
   "cell_type": "markdown",
   "metadata": {},
   "source": [
    "Fitting critical current graphs"
   ]
  },
  {
   "cell_type": "markdown",
   "metadata": {},
   "source": [
    "Author: Cliff Sun"
   ]
  },
  {
   "cell_type": "code",
   "execution_count": null,
   "metadata": {},
   "outputs": [],
   "source": [
    "import numpy as np\n",
    "import matplotlib.pyplot as plt\n",
    "import random\n",
    "import os\n",
    "import pandas as pd"
   ]
  },
  {
   "cell_type": "code",
   "execution_count": null,
   "metadata": {},
   "outputs": [],
   "source": [
    "# TODO: Convert data in pandas dataframe\n",
    "\n",
    "# TODO: Make while loop that continuously feeds in random arrays with random dimensions with\n",
    "# a random number of junctions\n",
    "\n",
    "# TODO: Calculate cost by adding the squared differences\n",
    "\n",
    "# TODO: Any cost under a specified threshold is added to a folder called \"Candidate Set-ups\"\n",
    "\n",
    "# TODO: Run until a certain amount of graphs are in the folder, maybe 20 or so"
   ]
  },
  {
   "cell_type": "code",
   "execution_count": null,
   "metadata": {},
   "outputs": [],
   "source": [
    "def current(B, arrJ, arrC, y): # y is initial phase difference of the whole circuit, B is the magnetic field, arrJ is the location of junctions, arrC is critical current associated with each junction\n",
    "    curr = 0 # summation of all currents in the entire junction\n",
    "    limit = int(len(arrJ) / 2) # number of junctions in the SQUID\n",
    "    numOfSegments = 0\n",
    "    for n in range(limit):\n",
    "        numOfSegments = 5 if (arrJ[2 * n + 1] - arrJ[2 * n]) < 0.05 else int(100 * (arrJ[2 * n + 1] - arrJ[2 * n]))\n",
    "        sizeOfSegment = float((arrJ[2 * n + 1] - arrJ[2 * n]) / numOfSegments)\n",
    "        for i in range(numOfSegments):\n",
    "            curr += arrC[n] * np.sin(y + (2 * np.pi * B) * (arrJ[2 * n] + i * sizeOfSegment)) * (1/numOfSegments)\n",
    "\n",
    "    # phase difference evolves according to 2 * pi * B\n",
    "\n",
    "    # curr += (critical current element in array)(sin(y + (2 * pi * B) * length)\n",
    "    return curr"
   ]
  },
  {
   "cell_type": "code",
   "execution_count": null,
   "metadata": {},
   "outputs": [],
   "source": [
    "def maxCurrent(B, arrayJ, arrayC): # Spits out the maximum current by varying the gauge invariant phase of the left end (free parameter) gamma\n",
    "    Y=np.linspace(0, 2*np.pi, 150)\n",
    "    dummyArray=[]\n",
    "    for gamma in Y:\n",
    "        dummyArray.append(current(B, arrayJ, arrayC, gamma))\n",
    "    return max(dummyArray)"
   ]
  },
  {
   "cell_type": "code",
   "execution_count": null,
   "metadata": {},
   "outputs": [],
   "source": [
    "# MagField = np.linspace(-10, 10, 10000) # an array of Magnetic Fields ranging from 0 to 100 with 5000 total elements"
   ]
  },
  {
   "cell_type": "markdown",
   "metadata": {},
   "source": [
    "The 2 lines below is where the useful section of the code is for modeling a SQUID"
   ]
  },
  {
   "cell_type": "code",
   "execution_count": null,
   "metadata": {},
   "outputs": [],
   "source": [
    "IMaxPoint = []"
   ]
  },
  {
   "cell_type": "code",
   "execution_count": null,
   "metadata": {},
   "outputs": [],
   "source": [
    "# length = len(MagField)\n",
    "# for i in range(length):\n",
    "#     IMaxPoint.append(maxCurrent(MagField[i], arrayOfJunctions, criticalCurrents) / np.sum(criticalCurrents)) # This integer represents the number of segments you want to cut each junction up into (the higher the number, the better the approximation)"
   ]
  },
  {
   "cell_type": "code",
   "execution_count": null,
   "metadata": {},
   "outputs": [],
   "source": [
    "def count_images_in_folder(folder_path):\n",
    "    image_extensions = ['.jpg', '.jpeg', '.png', '.gif', '.bmp', '.svg']  # Add more extensions if needed\n",
    "    image_count = 0\n",
    "\n",
    "    # List all files in the folder\n",
    "    files = os.listdir(folder_path)\n",
    "\n",
    "    # Iterate through each file and check if it's an image\n",
    "    for file in files:\n",
    "        if os.path.isfile(os.path.join(folder_path, file)):\n",
    "            if any(file.lower().endswith(ext) for ext in image_extensions):\n",
    "                image_count += 1\n",
    "\n",
    "    return image_count\n",
    "\n",
    "def cost_function(basis_data, generated_data):\n",
    "    diff = basis_data - generated_data\n",
    "    for i in range(len(diff)):\n",
    "        diff[i] = diff[i]**2\n",
    "    return np.sum(diff)\n",
    "\n",
    "def generate_random_junction_number(low_bound, top_bound):\n",
    "    return int(random.uniform(low_bound, top_bound))\n",
    "\n",
    "def generate_random_junction_coordinates(numOfJunctions):\n",
    "    random_numbers = [random.uniform(0, 1) for _ in range(numOfJunctions)]\n",
    "    return random_numbers\n",
    "\n",
    "def criticalCurrent(density, arrJ):\n",
    "    criticalCurrents = []\n",
    "    junctionWidths = []\n",
    "    for i in range(len(arrJ)//2):\n",
    "        junctionWidths.append(arrJ[2*i+1] - arrJ[2*i])\n",
    "    for i in range (len(junctionWidths)):\n",
    "        criticalCurrents.append(junctionWidths[i] * density[i])\n",
    "    return criticalCurrents, junctionWidths\n",
    "\n",
    "\n",
    "def array_to_python_syntax(arr):\n",
    "    if not arr.any():\n",
    "        return \"[]\"\n",
    "\n",
    "    result = \"[\"\n",
    "    for item in arr:\n",
    "        if isinstance(item, str):\n",
    "            result += f\"'{item}', \"\n",
    "        else:\n",
    "            result += f\"{item}, \"\n",
    "    \n",
    "    # Remove the trailing comma and space\n",
    "    result = result[:-2]\n",
    "    result += \"]\"\n",
    "    return result\n",
    "\n",
    "def write_txt_file(directory, arrJ_gen, cost, file_name):\n",
    "    converted_arrJ_gen = array_to_python_syntax(arrJ_gen)\n",
    "    text_content = f\"Cost = {cost}. \\n \\n The generated Junction array is {converted_arrJ_gen}.\"\n",
    "    numOfJunctions = len(arrJ_gen)//2\n",
    "    text_file_path = os.path.join(directory, file_name)\n",
    "    with open(text_file_path, 'w') as file:\n",
    "        file.write(text_content)\n",
    "\n",
    "def create_folder(repository_path, folder_name):\n",
    "    folder_path = os.path.join(repository_path, folder_name)\n",
    "    \n",
    "    # Check if the folder already exists\n",
    "    if not os.path.exists(folder_path):\n",
    "        # Create the folder\n",
    "        os.makedirs(folder_path)\n",
    "        print(f\"Folder '{folder_name}' created successfully.\")\n",
    "    else:\n",
    "        print(f\"Folder '{folder_name}' already exists.\")\n",
    "    return folder_path\n",
    "\n",
    "def junction_width(arrJ):\n",
    "    junctionWidths = []\n",
    "    for i in range(len(arrJ)//2):\n",
    "        junctionWidths.append(arrJ[2*i+1] - arrJ[2*i])\n",
    "    return junctionWidths\n",
    "\n",
    "def save_plot(x_values, y_values, directory, file_name):\n",
    "    experimental_df = pd.read_csv(r\"experimental data\\experimental csvs\\5.0uV_normalized.csv\")\n",
    "    experimental_x = np.array(experimental_df['B'])\n",
    "    experimental_y = np.array(experimental_df['I_c'])\n",
    "\n",
    "    # Plot the data\n",
    "    plt.plot(x_values, y_values)\n",
    "    plt.plot(experimental_x, experimental_y)\n",
    "    plt.xlabel('B')\n",
    "    plt.ylabel('I_c')\n",
    "\n",
    "    # Ensure the directory exists\n",
    "    os.makedirs(directory, exist_ok=True)\n",
    "\n",
    "    # Save the plot\n",
    "    plot_path = os.path.join(directory, file_name)\n",
    "    plt.savefig(plot_path)\n",
    "\n",
    "    # Close the plot to release resources\n",
    "    plt.close()"
   ]
  },
  {
   "cell_type": "code",
   "execution_count": null,
   "metadata": {},
   "outputs": [],
   "source": [
    "folder_path = r\"experimental data\\candidate set-ups\"\n",
    "model_data_csv = pd.read_csv(r\"experimental data\\experimental csvs\\5.0uV_normalized.csv\")\n",
    "model_i_c = np.array(model_data_csv['I_c'])\n",
    "model_B = np.array(model_data_csv['B'])\n",
    "\n",
    "top_bound = 2\n",
    "bottom_bound =5"
   ]
  },
  {
   "cell_type": "code",
   "execution_count": 55,
   "metadata": {},
   "outputs": [
    {
     "name": "stdout",
     "output_type": "stream",
     "text": [
      "Folder '18.496471573529597_4' created successfully.\n",
      "candidate plot found\n",
      "Folder '14.883721454697014_4' created successfully.\n",
      "candidate plot found\n",
      "Folder '13.375182124790104_4' created successfully.\n",
      "candidate plot found\n",
      "Folder '17.257085197056846_4' created successfully.\n",
      "candidate plot found\n",
      "Folder '14.08894781299509_4' created successfully.\n",
      "candidate plot found\n",
      "Folder '17.634439006789798_4' created successfully.\n",
      "candidate plot found\n",
      "Folder '16.097393784384597_4' created successfully.\n",
      "candidate plot found\n",
      "Folder '14.046806897711685_4' created successfully.\n",
      "candidate plot found\n",
      "Folder '13.28317119639315_4' created successfully.\n",
      "candidate plot found\n",
      "Folder '9.319380470037803_4' created successfully.\n",
      "candidate plot found\n",
      "Folder '17.374798324633417_4' created successfully.\n",
      "candidate plot found\n",
      "Folder '14.135197469707208_4' created successfully.\n",
      "candidate plot found\n",
      "Folder '16.226792021632_4' created successfully.\n",
      "candidate plot found\n",
      "Folder '17.21149500022581_4' created successfully.\n",
      "candidate plot found\n",
      "Folder '16.604591355592248_4' created successfully.\n",
      "candidate plot found\n",
      "Folder '14.538772618073406_4' created successfully.\n",
      "candidate plot found\n",
      "Folder '19.717330653926812_4' created successfully.\n",
      "candidate plot found\n",
      "Folder '17.953333170947836_4' created successfully.\n",
      "candidate plot found\n",
      "Folder '15.052910771040622_4' created successfully.\n",
      "candidate plot found\n",
      "Folder '15.920083608363242_4' created successfully.\n",
      "candidate plot found\n",
      "Folder '16.582486363885327_4' created successfully.\n",
      "candidate plot found\n",
      "Folder '18.400727801160066_4' created successfully.\n",
      "candidate plot found\n",
      "Folder '18.880039706899368_4' created successfully.\n",
      "candidate plot found\n",
      "Folder '13.920588858103727_4' created successfully.\n",
      "candidate plot found\n",
      "Folder '19.691109199982165_4' created successfully.\n",
      "candidate plot found\n",
      "Folder '13.358833105275135_4' created successfully.\n",
      "candidate plot found\n",
      "Folder '14.22158042469474_4' created successfully.\n",
      "candidate plot found\n",
      "Folder '17.911955839830306_4' created successfully.\n",
      "candidate plot found\n",
      "Folder '19.455493441983982_4' created successfully.\n",
      "candidate plot found\n",
      "Folder '16.518916501504687_4' created successfully.\n",
      "candidate plot found\n",
      "Folder '15.484977920631522_4' created successfully.\n",
      "candidate plot found\n",
      "Folder '12.901783866100377_4' created successfully.\n",
      "candidate plot found\n",
      "Folder '19.892117041486564_4' created successfully.\n",
      "candidate plot found\n",
      "Folder '17.62147353207294_4' created successfully.\n",
      "candidate plot found\n",
      "Folder '16.410969629736822_4' created successfully.\n",
      "candidate plot found\n",
      "Folder '15.89952796812104_4' created successfully.\n",
      "candidate plot found\n",
      "Folder '17.083187198880264_4' created successfully.\n",
      "candidate plot found\n",
      "Folder '11.713604604198775_4' created successfully.\n",
      "candidate plot found\n"
     ]
    },
    {
     "ename": "KeyboardInterrupt",
     "evalue": "",
     "output_type": "error",
     "traceback": [
      "\u001b[1;31m---------------------------------------------------------------------------\u001b[0m",
      "\u001b[1;31mKeyboardInterrupt\u001b[0m                         Traceback (most recent call last)",
      "Cell \u001b[1;32mIn[55], line 12\u001b[0m\n\u001b[0;32m      9\u001b[0m \u001b[38;5;28msum\u001b[39m \u001b[38;5;241m=\u001b[39m np\u001b[38;5;241m.\u001b[39msum(criticalCurrents)\n\u001b[0;32m     11\u001b[0m \u001b[38;5;28;01mfor\u001b[39;00m i \u001b[38;5;129;01min\u001b[39;00m \u001b[38;5;28mrange\u001b[39m(\u001b[38;5;28mlen\u001b[39m(model_B)):\n\u001b[1;32m---> 12\u001b[0m     IMaxPoint\u001b[38;5;241m.\u001b[39mappend(\u001b[43mmaxCurrent\u001b[49m\u001b[43m(\u001b[49m\u001b[43mmodel_B\u001b[49m\u001b[43m[\u001b[49m\u001b[43mi\u001b[49m\u001b[43m]\u001b[49m\u001b[43m,\u001b[49m\u001b[43m \u001b[49m\u001b[43marrayOfJunctions\u001b[49m\u001b[43m,\u001b[49m\u001b[43m \u001b[49m\u001b[43mcriticalCurrents\u001b[49m\u001b[43m)\u001b[49m \u001b[38;5;241m/\u001b[39m \u001b[38;5;28msum\u001b[39m)\n\u001b[0;32m     13\u001b[0m \u001b[38;5;66;03m# plt.plot(model_B, IMaxPoint)\u001b[39;00m\n\u001b[0;32m     14\u001b[0m \u001b[38;5;66;03m# plt.plot(model_B, model_i_c)\u001b[39;00m\n\u001b[0;32m     15\u001b[0m \u001b[38;5;66;03m# plt.show()\u001b[39;00m\n\u001b[0;32m     16\u001b[0m cost \u001b[38;5;241m=\u001b[39m cost_function(IMaxPoint, model_i_c)\n",
      "Cell \u001b[1;32mIn[49], line 5\u001b[0m, in \u001b[0;36mmaxCurrent\u001b[1;34m(B, arrayJ, arrayC)\u001b[0m\n\u001b[0;32m      3\u001b[0m dummyArray\u001b[38;5;241m=\u001b[39m[]\n\u001b[0;32m      4\u001b[0m \u001b[38;5;28;01mfor\u001b[39;00m gamma \u001b[38;5;129;01min\u001b[39;00m Y:\n\u001b[1;32m----> 5\u001b[0m     dummyArray\u001b[38;5;241m.\u001b[39mappend(\u001b[43mcurrent\u001b[49m\u001b[43m(\u001b[49m\u001b[43mB\u001b[49m\u001b[43m,\u001b[49m\u001b[43m \u001b[49m\u001b[43marrayJ\u001b[49m\u001b[43m,\u001b[49m\u001b[43m \u001b[49m\u001b[43marrayC\u001b[49m\u001b[43m,\u001b[49m\u001b[43m \u001b[49m\u001b[43mgamma\u001b[49m\u001b[43m)\u001b[49m)\n\u001b[0;32m      6\u001b[0m \u001b[38;5;28;01mreturn\u001b[39;00m \u001b[38;5;28mmax\u001b[39m(dummyArray)\n",
      "Cell \u001b[1;32mIn[48], line 7\u001b[0m, in \u001b[0;36mcurrent\u001b[1;34m(B, arrJ, arrC, y)\u001b[0m\n\u001b[0;32m      5\u001b[0m \u001b[38;5;28;01mfor\u001b[39;00m n \u001b[38;5;129;01min\u001b[39;00m \u001b[38;5;28mrange\u001b[39m(limit):\n\u001b[0;32m      6\u001b[0m     numOfSegments \u001b[38;5;241m=\u001b[39m \u001b[38;5;241m5\u001b[39m \u001b[38;5;28;01mif\u001b[39;00m (arrJ[\u001b[38;5;241m2\u001b[39m \u001b[38;5;241m*\u001b[39m n \u001b[38;5;241m+\u001b[39m \u001b[38;5;241m1\u001b[39m] \u001b[38;5;241m-\u001b[39m arrJ[\u001b[38;5;241m2\u001b[39m \u001b[38;5;241m*\u001b[39m n]) \u001b[38;5;241m<\u001b[39m \u001b[38;5;241m0.05\u001b[39m \u001b[38;5;28;01melse\u001b[39;00m \u001b[38;5;28mint\u001b[39m(\u001b[38;5;241m100\u001b[39m \u001b[38;5;241m*\u001b[39m (arrJ[\u001b[38;5;241m2\u001b[39m \u001b[38;5;241m*\u001b[39m n \u001b[38;5;241m+\u001b[39m \u001b[38;5;241m1\u001b[39m] \u001b[38;5;241m-\u001b[39m arrJ[\u001b[38;5;241m2\u001b[39m \u001b[38;5;241m*\u001b[39m n]))\n\u001b[1;32m----> 7\u001b[0m     sizeOfSegment \u001b[38;5;241m=\u001b[39m \u001b[38;5;28mfloat\u001b[39m((arrJ[\u001b[38;5;241m2\u001b[39m \u001b[38;5;241m*\u001b[39m n \u001b[38;5;241m+\u001b[39m \u001b[38;5;241m1\u001b[39m] \u001b[38;5;241m-\u001b[39m arrJ[\u001b[38;5;241m2\u001b[39m \u001b[38;5;241m*\u001b[39m n]) \u001b[38;5;241m/\u001b[39m numOfSegments)\n\u001b[0;32m      8\u001b[0m     \u001b[38;5;28;01mfor\u001b[39;00m i \u001b[38;5;129;01min\u001b[39;00m \u001b[38;5;28mrange\u001b[39m(numOfSegments):\n\u001b[0;32m      9\u001b[0m         curr \u001b[38;5;241m+\u001b[39m\u001b[38;5;241m=\u001b[39m arrC[n] \u001b[38;5;241m*\u001b[39m np\u001b[38;5;241m.\u001b[39msin(y \u001b[38;5;241m+\u001b[39m (\u001b[38;5;241m2\u001b[39m \u001b[38;5;241m*\u001b[39m np\u001b[38;5;241m.\u001b[39mpi \u001b[38;5;241m*\u001b[39m B) \u001b[38;5;241m*\u001b[39m (arrJ[\u001b[38;5;241m2\u001b[39m \u001b[38;5;241m*\u001b[39m n] \u001b[38;5;241m+\u001b[39m i \u001b[38;5;241m*\u001b[39m sizeOfSegment)) \u001b[38;5;241m*\u001b[39m (\u001b[38;5;241m1\u001b[39m\u001b[38;5;241m/\u001b[39mnumOfSegments)\n",
      "\u001b[1;31mKeyboardInterrupt\u001b[0m: "
     ]
    }
   ],
   "source": [
    "while(True):\n",
    "    # numOfJunctions = generate_random_junction_number(low_bound=bottom_bound, top_bound=top_bound)\n",
    "    numOfJunctions = 4\n",
    "    arrayOfJunctions = generate_random_junction_coordinates(numOfJunctions= (2 * numOfJunctions))\n",
    "    arrayOfJunctions.sort()\n",
    "    arrayOfJunctions[0] = 0\n",
    "    arrayOfJunctions[-1] = 1\n",
    "    criticalCurrents, junctionWidths = criticalCurrent(np.ones(numOfJunctions),arrayOfJunctions)\n",
    "    sum = np.sum(criticalCurrents)\n",
    "\n",
    "    for i in range(len(model_B)):\n",
    "        IMaxPoint.append(maxCurrent(model_B[i], arrayOfJunctions, criticalCurrents) / sum)\n",
    "    # plt.plot(model_B, IMaxPoint)\n",
    "    # plt.plot(model_B, model_i_c)\n",
    "    # plt.show()\n",
    "    cost = cost_function(IMaxPoint, model_i_c)\n",
    "\n",
    "    if (cost < 20):\n",
    "        folder_name = f\"{cost}_{numOfJunctions}\"\n",
    "        file_name = f\"{{{cost}_{numOfJunctions}}}\"\n",
    "        repo_path = r\"experimental data\\candidate set-ups\\regular cost\"\n",
    "        directory = os.path.join(repo_path, folder_name)\n",
    "        folder_path = create_folder(repository_path=repo_path, folder_name=folder_name)\n",
    "        write_txt_file(directory=folder_path, arrJ_gen=np.array(arrayOfJunctions), cost=cost, file_name=f\"{file_name}.txt\")\n",
    "        save_plot(model_B, IMaxPoint, directory=folder_path, file_name=f\"{file_name}.png\")\n",
    "        print(\"candidate plot found\")\n",
    "    IMaxPoint = []"
   ]
  },
  {
   "cell_type": "code",
   "execution_count": null,
   "metadata": {},
   "outputs": [
    {
     "name": "stdout",
     "output_type": "stream",
     "text": [
      "Folder '0.006046016466630593_85' already exists.\n",
      "candidate plot found\n"
     ]
    }
   ],
   "source": [
    "if (cost < 150):\n",
    "        folder_name = f\"{np.std(junction_width(arrJ=arrayOfJunctions))}_{numOfJunctions}\"\n",
    "        file_name = f\"{{{cost}_{numOfJunctions}}}\"\n",
    "        repo_path = r\"experimental data\\candidate set-ups\"\n",
    "        directory = os.path.join(repo_path, folder_name)\n",
    "        folder_path = create_folder(repository_path=repo_path, folder_name=folder_name)\n",
    "        write_txt_file(directory=folder_path, arrJ_gen=np.array(arrayOfJunctions), cost=cost, file_name=f\"{file_name}.txt\")\n",
    "        save_plot(MagField, IMaxPoint, directory=folder_path, file_name=f\"{file_name}.png\")\n",
    "        print(\"candidate plot found\")"
   ]
  },
  {
   "cell_type": "code",
   "execution_count": null,
   "metadata": {},
   "outputs": [
    {
     "name": "stdout",
     "output_type": "stream",
     "text": [
      "22.767955083582912\n",
      "4\n",
      "[0, 0.042288144682312484, 0.219887538686781, 0.3798878041697951, 0.379895631064055, 0.5400002710523429, 0.5400002710523472, 1]\n",
      "Folder '22.767955083582912_4' created successfully.\n",
      "candidate plot found\n"
     ]
    }
   ],
   "source": [
    "numOfJunctions = 4\n",
    "arrayOfJunctions = [0.0, 0.042288144682312484, 0.219887538686781, 0.3798878041697951, 0.379895631064055, 0.5400002710523429, 0.5400002710523472, 1.0]\n",
    "arrayOfJunctions.sort()\n",
    "arrayOfJunctions[0] = 0\n",
    "arrayOfJunctions[-1] = 1\n",
    "criticalCurrents, junctionWidths = criticalCurrent(np.ones(numOfJunctions),arrayOfJunctions)\n",
    "sum = np.sum(criticalCurrents)\n",
    "\n",
    "for i in range(len(model_B)):\n",
    "    IMaxPoint.append(maxCurrent(model_B[i], arrayOfJunctions, criticalCurrents) / sum)\n",
    "    # plt.plot(model_B, IMaxPoint)\n",
    "    # plt.plot(model_B, model_i_c)\n",
    "    # plt.show()\n",
    "cost = cost_function(IMaxPoint, model_i_c)\n",
    "print(cost)\n",
    "print(numOfJunctions)\n",
    "print(arrayOfJunctions)\n",
    "\n",
    "if (cost < 30):\n",
    "    folder_name = f\"{cost}_{numOfJunctions}\"\n",
    "    file_name = f\"{{{cost}_{numOfJunctions}}}\"\n",
    "    repo_path = r\"experimental data\\candidate set-ups\\regular cost\"\n",
    "    directory = os.path.join(repo_path, folder_name)\n",
    "    folder_path = create_folder(repository_path=repo_path, folder_name=folder_name)\n",
    "    write_txt_file(directory=folder_path, arrJ_gen=np.array(arrayOfJunctions), cost=cost, file_name=f\"{file_name}.txt\")\n",
    "    save_plot(model_B, IMaxPoint, directory=folder_path, file_name=f\"{file_name}.png\")\n",
    "    print(\"candidate plot found\")\n",
    "IMaxPoint = []"
   ]
  }
 ],
 "metadata": {
  "kernelspec": {
   "display_name": "Python 3 (ipykernel)",
   "language": "python",
   "name": "python3"
  },
  "language_info": {
   "codemirror_mode": {
    "name": "ipython",
    "version": 3
   },
   "file_extension": ".py",
   "mimetype": "text/x-python",
   "name": "python",
   "nbconvert_exporter": "python",
   "pygments_lexer": "ipython3",
   "version": "3.11.9"
  }
 },
 "nbformat": 4,
 "nbformat_minor": 4
}
