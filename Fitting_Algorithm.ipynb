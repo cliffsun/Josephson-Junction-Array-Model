{
 "cells": [
  {
   "cell_type": "markdown",
   "metadata": {},
   "source": [
    "Fitting critical current graphs"
   ]
  },
  {
   "cell_type": "markdown",
   "metadata": {},
   "source": [
    "Author: Cliff Sun"
   ]
  },
  {
   "cell_type": "code",
   "execution_count": 11,
   "metadata": {},
   "outputs": [],
   "source": [
    "import numpy as np\n",
    "import matplotlib.pyplot as plt\n",
    "import random\n",
    "import os\n",
    "import pandas as pd"
   ]
  },
  {
   "cell_type": "code",
   "execution_count": 12,
   "metadata": {},
   "outputs": [],
   "source": [
    "# TODO: Convert data in pandas dataframe\n",
    "\n",
    "# TODO: Make while loop that continuously feeds in random arrays with random dimensions with\n",
    "# a random number of junctions\n",
    "\n",
    "# TODO: Calculate cost by adding the squared differences\n",
    "\n",
    "# TODO: Any cost under a specified threshold is added to a folder called \"Candidate Set-ups\"\n",
    "\n",
    "# TODO: Run until a certain amount of graphs are in the folder, maybe 20 or so"
   ]
  },
  {
   "cell_type": "code",
   "execution_count": 13,
   "metadata": {},
   "outputs": [],
   "source": [
    "def current(B, arrJ, arrC, y): # y is initial phase difference of the whole circuit, B is the magnetic field, arrJ is the location of junctions, arrC is critical current associated with each junction\n",
    "    curr = 0 # summation of all currents in the entire junction\n",
    "    limit = int(len(arrJ) / 2) # number of junctions in the SQUID\n",
    "    numOfSegments = 0\n",
    "    for n in range(limit):\n",
    "        numOfSegments = 5 if (arrJ[2 * n + 1] - arrJ[2 * n]) < 0.05 else int(100 * (arrJ[2 * n + 1] - arrJ[2 * n]))\n",
    "        sizeOfSegment = float((arrJ[2 * n + 1] - arrJ[2 * n]) / numOfSegments)\n",
    "        for i in range(numOfSegments):\n",
    "            curr += arrC[n] * np.sin(y + (2 * np.pi * B) * (arrJ[2 * n] + i * sizeOfSegment)) * (1/numOfSegments)\n",
    "\n",
    "    # phase difference evolves according to 2 * pi * B\n",
    "\n",
    "    # curr += (critical current element in array)(sin(y + (2 * pi * B) * length)\n",
    "    return curr"
   ]
  },
  {
   "cell_type": "code",
   "execution_count": 14,
   "metadata": {},
   "outputs": [],
   "source": [
    "def maxCurrent(B, arrayJ, arrayC): # Spits out the maximum current by varying the gauge invariant phase of the left end (free parameter) gamma\n",
    "    Y=np.linspace(0, 2*np.pi, 150)\n",
    "    dummyArray=[]\n",
    "    for gamma in Y:\n",
    "        dummyArray.append(current(B, arrayJ, arrayC, gamma))\n",
    "    return max(dummyArray)"
   ]
  },
  {
   "cell_type": "code",
   "execution_count": 15,
   "metadata": {},
   "outputs": [],
   "source": [
    "# MagField = np.linspace(-10, 10, 10000) # an array of Magnetic Fields ranging from 0 to 100 with 5000 total elements"
   ]
  },
  {
   "cell_type": "markdown",
   "metadata": {},
   "source": [
    "The 2 lines below is where the useful section of the code is for modeling a SQUID"
   ]
  },
  {
   "cell_type": "code",
   "execution_count": 16,
   "metadata": {},
   "outputs": [],
   "source": [
    "IMaxPoint = []"
   ]
  },
  {
   "cell_type": "code",
   "execution_count": 17,
   "metadata": {},
   "outputs": [],
   "source": [
    "# length = len(MagField)\n",
    "# for i in range(length):\n",
    "#     IMaxPoint.append(maxCurrent(MagField[i], arrayOfJunctions, criticalCurrents) / np.sum(criticalCurrents)) # This integer represents the number of segments you want to cut each junction up into (the higher the number, the better the approximation)"
   ]
  },
  {
   "cell_type": "code",
   "execution_count": 18,
   "metadata": {},
   "outputs": [],
   "source": [
    "def count_images_in_folder(folder_path):\n",
    "    image_extensions = ['.jpg', '.jpeg', '.png', '.gif', '.bmp', '.svg']  # Add more extensions if needed\n",
    "    image_count = 0\n",
    "\n",
    "    # List all files in the folder\n",
    "    files = os.listdir(folder_path)\n",
    "\n",
    "    # Iterate through each file and check if it's an image\n",
    "    for file in files:\n",
    "        if os.path.isfile(os.path.join(folder_path, file)):\n",
    "            if any(file.lower().endswith(ext) for ext in image_extensions):\n",
    "                image_count += 1\n",
    "\n",
    "    return image_count\n",
    "\n",
    "def cost_function(basis_data, generated_data):\n",
    "    diff = basis_data - generated_data\n",
    "    for i in range(len(diff)):\n",
    "        diff[i] = diff[i]**2\n",
    "    return np.sum(diff)\n",
    "\n",
    "def generate_random_junction_number(low_bound, top_bound):\n",
    "    return int(random.uniform(low_bound, top_bound))\n",
    "\n",
    "def generate_random_junction_coordinates(numOfJunctions):\n",
    "    random_numbers = [random.uniform(0, 1) for _ in range(numOfJunctions)]\n",
    "    return random_numbers\n",
    "\n",
    "def criticalCurrent(density, arrJ):\n",
    "    criticalCurrents = []\n",
    "    junctionWidths = []\n",
    "    for i in range(len(arrJ)//2):\n",
    "        junctionWidths.append(arrJ[2*i+1] - arrJ[2*i])\n",
    "    for i in range (len(junctionWidths)):\n",
    "        criticalCurrents.append(junctionWidths[i] * density[i])\n",
    "    return criticalCurrents, junctionWidths\n",
    "\n",
    "\n",
    "def array_to_python_syntax(arr):\n",
    "    if not arr.any():\n",
    "        return \"[]\"\n",
    "\n",
    "    result = \"[\"\n",
    "    for item in arr:\n",
    "        if isinstance(item, str):\n",
    "            result += f\"'{item}', \"\n",
    "        else:\n",
    "            result += f\"{item}, \"\n",
    "    \n",
    "    # Remove the trailing comma and space\n",
    "    result = result[:-2]\n",
    "    result += \"]\"\n",
    "    return result\n",
    "\n",
    "def write_txt_file(directory, arrJ_gen, cost, file_name):\n",
    "    converted_arrJ_gen = array_to_python_syntax(arrJ_gen)\n",
    "    text_content = f\"Cost = {cost}. \\n \\n The generated Junction array is {converted_arrJ_gen}.\"\n",
    "    numOfJunctions = len(arrJ_gen)//2\n",
    "    text_file_path = os.path.join(directory, file_name)\n",
    "    with open(text_file_path, 'w') as file:\n",
    "        file.write(text_content)\n",
    "\n",
    "def create_folder(repository_path, folder_name):\n",
    "    folder_path = os.path.join(repository_path, folder_name)\n",
    "    \n",
    "    # Check if the folder already exists\n",
    "    if not os.path.exists(folder_path):\n",
    "        # Create the folder\n",
    "        os.makedirs(folder_path)\n",
    "        print(f\"Folder '{folder_name}' created successfully.\")\n",
    "    else:\n",
    "        print(f\"Folder '{folder_name}' already exists.\")\n",
    "    return folder_path\n",
    "\n",
    "def junction_width(arrJ):\n",
    "    junctionWidths = []\n",
    "    for i in range(len(arrJ)//2):\n",
    "        junctionWidths.append(arrJ[2*i+1] - arrJ[2*i])\n",
    "    return junctionWidths\n",
    "\n",
    "def save_plot(x_values, y_values, directory, file_name):\n",
    "    experimental_df = pd.read_csv(r\"experimental data\\experimental csvs\\5.0uV_normalized.csv\")\n",
    "    experimental_x = np.array(experimental_df['B'])\n",
    "    experimental_y = np.array(experimental_df['I_c'])\n",
    "\n",
    "    # Plot the data\n",
    "    plt.plot(x_values, y_values)\n",
    "    plt.plot(experimental_x, experimental_y)\n",
    "    plt.xlabel('B')\n",
    "    plt.ylabel('I_c')\n",
    "\n",
    "    # Ensure the directory exists\n",
    "    os.makedirs(directory, exist_ok=True)\n",
    "\n",
    "    # Save the plot\n",
    "    plot_path = os.path.join(directory, file_name)\n",
    "    plt.savefig(plot_path)\n",
    "\n",
    "    # Close the plot to release resources\n",
    "    plt.close()"
   ]
  },
  {
   "cell_type": "code",
   "execution_count": 19,
   "metadata": {},
   "outputs": [],
   "source": [
    "folder_path = r\"experimental data\\candidate set-ups\"\n",
    "model_data_csv = pd.read_csv(r\"experimental data\\experimental csvs\\5.0uV_normalized.csv\")\n",
    "model_i_c = np.array(model_data_csv['I_c'])\n",
    "model_B = np.array(model_data_csv['B'])\n",
    "\n",
    "top_bound = 2\n",
    "bottom_bound =5"
   ]
  },
  {
   "cell_type": "code",
   "execution_count": 20,
   "metadata": {},
   "outputs": [],
   "source": [
    "while(True):\n",
    "    # numOfJunctions = generate_random_junction_number(low_bound=bottom_bound, top_bound=top_bound)\n",
    "    numOfJunctions = 4\n",
    "    arrayOfJunctions = generate_random_junction_coordinates(numOfJunctions= (2 * numOfJunctions))\n",
    "    arrayOfJunctions.sort()\n",
    "    arrayOfJunctions[0] = 0\n",
    "    arrayOfJunctions[-1] = 1\n",
    "    criticalCurrents, junctionWidths = criticalCurrent(np.ones(numOfJunctions),arrayOfJunctions)\n",
    "    sum = np.sum(criticalCurrents)\n",
    "\n",
    "    for i in range(len(model_B)):\n",
    "        IMaxPoint.append(maxCurrent(model_B[i], arrayOfJunctions, criticalCurrents) / sum)\n",
    "    # plt.plot(model_B, IMaxPoint)\n",
    "    # plt.plot(model_B, model_i_c)\n",
    "    # plt.show()\n",
    "    cost = cost_function(IMaxPoint, model_i_c)\n",
    "\n",
    "    if (cost < 35):\n",
    "        folder_name = f\"{cost}_{numOfJunctions}\"\n",
    "        file_name = f\"{{{cost}_{numOfJunctions}}}\"\n",
    "        repo_path = r\"experimental data\\candidate set-ups\\regular cost\"\n",
    "        directory = os.path.join(repo_path, folder_name)\n",
    "        folder_path = create_folder(repository_path=repo_path, folder_name=folder_name)\n",
    "        write_txt_file(directory=folder_path, arrJ_gen=np.array(arrayOfJunctions), cost=cost, file_name=f\"{file_name}.txt\")\n",
    "        save_plot(model_B, IMaxPoint, directory=folder_path, file_name=f\"{file_name}.png\")\n",
    "        print(\"candidate plot found\")\n",
    "    IMaxPoint = []"
   ]
  }
 ],
 "metadata": {
  "kernelspec": {
   "display_name": "Python 3 (ipykernel)",
   "language": "python",
   "name": "python3"
  },
  "language_info": {
   "codemirror_mode": {
    "name": "ipython",
    "version": 3
   },
   "file_extension": ".py",
   "mimetype": "text/x-python",
   "name": "python",
   "nbconvert_exporter": "python",
   "pygments_lexer": "ipython3",
   "version": "3.11.9"
  }
 },
 "nbformat": 4,
 "nbformat_minor": 4
}
