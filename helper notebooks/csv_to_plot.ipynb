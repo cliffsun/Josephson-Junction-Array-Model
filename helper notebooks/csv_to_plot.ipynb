{
 "cells": [
  {
   "cell_type": "code",
   "execution_count": 2,
   "metadata": {},
   "outputs": [],
   "source": [
    "import pandas as pd\n",
    "import numpy as np\n",
    "import matplotlib.pyplot as plt\n",
    "import os \n",
    "import csv\n",
    "# import plotly.express as px"
   ]
  },
  {
   "cell_type": "code",
   "execution_count": 8,
   "metadata": {},
   "outputs": [],
   "source": [
    "def remove_invalid_values(csv_file):\n",
    "    # Read the CSV file and filter out lines containing \"--,--\"\n",
    "    with open(csv_file, 'r') as file:\n",
    "        lines = file.readlines()\n",
    "        filtered_lines = [line for line in lines if \"--,--\" not in line]\n",
    "\n",
    "    # Write the filtered lines back to the CSV file\n",
    "    with open(csv_file, 'w') as file:\n",
    "        for line in filtered_lines:\n",
    "            file.write(line)\n",
    "\n",
    "def sort_csv(csv_file):\n",
    "    # Read the CSV file into a list of dictionaries\n",
    "    with open(csv_file, 'r') as file:\n",
    "        reader = csv.DictReader(file)\n",
    "        csv_data = list(reader)\n",
    "    \n",
    "    # Sort the data based on the values in the \"B\" column\n",
    "    sorted_data = sorted(csv_data, key=lambda x: float(x['B']))\n",
    "    \n",
    "    # Write the sorted data back to the CSV file\n",
    "    with open(csv_file, 'w', newline='') as file:\n",
    "        fieldnames = reader.fieldnames\n",
    "        writer = csv.DictWriter(file, fieldnames=fieldnames)\n",
    "        writer.writeheader()\n",
    "        writer.writerows(sorted_data)\n",
    "\n",
    "def get_csv_paths(folder_path):\n",
    "    csv_paths = []\n",
    "    for root, dirs, files in os.walk(folder_path):\n",
    "        for file in files:\n",
    "            if file.endswith('.csv'):\n",
    "                csv_paths.append(os.path.join(root, file))\n",
    "    return csv_paths\n",
    "\n",
    "def read_csv_to_dataframes(csv_paths):\n",
    "    \"\"\"\n",
    "    Read CSV files into pandas DataFrames and store them in an array.\n",
    "    \"\"\"\n",
    "    dataframes = []\n",
    "    for path in csv_paths:\n",
    "        dataframe = pd.read_csv(path)\n",
    "        dataframe.sort_values(by=dataframe.columns[0])\n",
    "        dataframes.append(dataframe)\n",
    "    return dataframes\n",
    "\n",
    "def offset_csv_to_max(filename):\n",
    "    # Step 1: Read CSV and parse contents\n",
    "    data = pd.read_csv(filename)\n",
    "\n",
    "    # Step 2: Find the absolute maximum in the y-axis (assuming the CSV is 2-D)\n",
    "    absolute_max_y = data.iloc[:, 1].abs().max()\n",
    "\n",
    "    # Step 3: Find the x-value corresponding to the absolute maximum y-value\n",
    "    max_x_index = data.iloc[:, 1].abs().idxmax()\n",
    "    x_value_at_max_y = data.iloc[max_x_index, 0]\n",
    "\n",
    "    # Step 4: Calculate the offset to move the absolute maximum to x = 0\n",
    "    offset = x_value_at_max_y\n",
    "\n",
    "    # Step 5: Adjust x-coordinate of all points\n",
    "    data.iloc[:, 0] -= offset\n",
    "\n",
    "    # Step 6: Save modified DataFrame back to the original CSV file\n",
    "    data.to_csv(filename, index=False)\n",
    "\n",
    "    print(\"CSV offset successfully. File overwritten with new data.\")\n",
    "\n",
    "def plot_and_save_dataframes(folder_name, dataframes):\n",
    "    \"\"\"\n",
    "    Plot and save DataFrames under the specified folder.\n",
    "    Assumes the x-axis is the first column and the y-axis is the second column.\n",
    "    \"\"\"\n",
    "    if not os.path.exists(folder_name):\n",
    "        os.makedirs(folder_name)\n",
    "\n",
    "    for idx, df in enumerate(dataframes):\n",
    "        # Check if DataFrame has at least two columns\n",
    "        if len(df.columns) >= 2:\n",
    "            x = df[\"B\"]\n",
    "            y = df[\"I_c\"]\n",
    "            plt.figure()\n",
    "            plt.plot(x, y)\n",
    "            plt.xlabel('X-axis')\n",
    "            plt.ylabel('Y-axis')\n",
    "            plt.title(f'Plot {idx+1}')\n",
    "            plt.savefig(os.path.join(folder_name, f'plot_{idx+1}.png'))\n",
    "            plt.close()\n",
    "        else:\n",
    "            print(f\"DataFrame {idx+1} does not have sufficient columns to plot.\")"
   ]
  },
  {
   "cell_type": "code",
   "execution_count": 10,
   "metadata": {},
   "outputs": [],
   "source": [
    "array_of_csvs = get_csv_paths(r\"..\\experimental data\\experimental csvs\")\n",
    "# offset_csv_to_max(r\"../experimental data\\experimental csvs\\5.0uV.csv\")\n",
    "# for str in array_of_csvs:\n",
    "#     sort_csv(str)"
   ]
  },
  {
   "cell_type": "code",
   "execution_count": 11,
   "metadata": {},
   "outputs": [],
   "source": [
    "dataframes = read_csv_to_dataframes(array_of_csvs)"
   ]
  },
  {
   "cell_type": "code",
   "execution_count": 11,
   "metadata": {},
   "outputs": [],
   "source": [
    "# fig = px.line(dataframes[0], x='B', y='I_c')\n",
    "# fig.show()"
   ]
  },
  {
   "cell_type": "code",
   "execution_count": 12,
   "metadata": {},
   "outputs": [],
   "source": [
    "plot_and_save_dataframes(\"test\", dataframes)"
   ]
  }
 ],
 "metadata": {
  "kernelspec": {
   "display_name": "Python 3",
   "language": "python",
   "name": "python3"
  },
  "language_info": {
   "codemirror_mode": {
    "name": "ipython",
    "version": 3
   },
   "file_extension": ".py",
   "mimetype": "text/x-python",
   "name": "python",
   "nbconvert_exporter": "python",
   "pygments_lexer": "ipython3",
   "version": "3.11.8"
  }
 },
 "nbformat": 4,
 "nbformat_minor": 2
}
